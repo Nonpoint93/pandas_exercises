{
 "cells": [
  {
   "cell_type": "markdown",
   "metadata": {},
   "source": [
    "# Ex1 - Filtering and Sorting Data"
   ]
  },
  {
   "cell_type": "markdown",
   "metadata": {},
   "source": [
    "This time we are going to pull data directly from the internet.\n",
    "Special thanks to: https://github.com/justmarkham for sharing the dataset and materials.\n",
    "\n",
    "### Step 1. Import the necessary libraries"
   ]
  },
  {
   "cell_type": "code",
   "execution_count": 2,
   "metadata": {
    "collapsed": false
   },
   "outputs": [],
   "source": [
    "import pandas as pd"
   ]
  },
  {
   "cell_type": "markdown",
   "metadata": {},
   "source": [
    "### Step 2. Import the dataset from this [address](https://raw.githubusercontent.com/justmarkham/DAT8/master/data/chipotle.tsv). "
   ]
  },
  {
   "cell_type": "markdown",
   "metadata": {},
   "source": [
    "### Step 3. Assign it to a variable called chipo."
   ]
  },
  {
   "cell_type": "code",
   "execution_count": 3,
   "metadata": {
    "collapsed": false
   },
   "outputs": [],
   "source": [
    "chipo = pd.read_csv(\"https://raw.githubusercontent.com/justmarkham/DAT8/master/data/chipotle.tsv\", delimiter = \"\\t\")"
   ]
  },
  {
   "cell_type": "markdown",
   "metadata": {},
   "source": [
    "### Step 4. How many products cost more than $10.00?"
   ]
  },
  {
   "cell_type": "code",
   "execution_count": null,
   "metadata": {
    "collapsed": false
   },
   "outputs": [
    {
     "name": "stdout",
     "output_type": "stream",
     "text": [
      "1130\n"
     ]
    }
   ],
   "source": [
    "prices_converted = chipo[\"item_price\"].str.replace(\"$\", \"\", regex = False).astype(float)\n",
    "print((prices_converted > 10.).sum())\n"
   ]
  },
  {
   "cell_type": "markdown",
   "metadata": {},
   "source": [
    "### Step 5. What is the price of each item? \n",
    "###### print a data frame with only two columns item_name and item_price"
   ]
  },
  {
   "cell_type": "code",
   "execution_count": 17,
   "metadata": {
    "collapsed": false
   },
   "outputs": [
    {
     "name": "stdout",
     "output_type": "stream",
     "text": [
      "                                  item_name item_price\n",
      "0              Chips and Fresh Tomato Salsa     $2.39 \n",
      "1                                      Izze     $3.39 \n",
      "2                          Nantucket Nectar     $3.39 \n",
      "3     Chips and Tomatillo-Green Chili Salsa     $2.39 \n",
      "4                              Chicken Bowl    $16.98 \n",
      "...                                     ...        ...\n",
      "4617                          Steak Burrito    $11.75 \n",
      "4618                          Steak Burrito    $11.75 \n",
      "4619                     Chicken Salad Bowl    $11.25 \n",
      "4620                     Chicken Salad Bowl     $8.75 \n",
      "4621                     Chicken Salad Bowl     $8.75 \n",
      "\n",
      "[4622 rows x 2 columns]\n"
     ]
    }
   ],
   "source": [
    "print(chipo[[\"item_name\",\"item_price\"]])"
   ]
  },
  {
   "cell_type": "markdown",
   "metadata": {},
   "source": [
    "### Step 6. Sort by the name of the item"
   ]
  },
  {
   "cell_type": "code",
   "execution_count": 19,
   "metadata": {
    "collapsed": false
   },
   "outputs": [
    {
     "name": "stdout",
     "output_type": "stream",
     "text": [
      "      order_id  quantity          item_name  \\\n",
      "3389      1360         2  6 Pack Soft Drink   \n",
      "341        148         1  6 Pack Soft Drink   \n",
      "1849       749         1  6 Pack Soft Drink   \n",
      "1860       754         1  6 Pack Soft Drink   \n",
      "2713      1076         1  6 Pack Soft Drink   \n",
      "...        ...       ...                ...   \n",
      "2384       948         1  Veggie Soft Tacos   \n",
      "781        322         1  Veggie Soft Tacos   \n",
      "2851      1132         1  Veggie Soft Tacos   \n",
      "1699       688         1  Veggie Soft Tacos   \n",
      "1395       567         1  Veggie Soft Tacos   \n",
      "\n",
      "                                     choice_description item_price  \n",
      "3389                                        [Diet Coke]    $12.98   \n",
      "341                                         [Diet Coke]     $6.49   \n",
      "1849                                             [Coke]     $6.49   \n",
      "1860                                        [Diet Coke]     $6.49   \n",
      "2713                                             [Coke]     $6.49   \n",
      "...                                                 ...        ...  \n",
      "2384  [Roasted Chili Corn Salsa, [Fajita Vegetables,...     $8.75   \n",
      "781   [Fresh Tomato Salsa, [Black Beans, Cheese, Sou...     $8.75   \n",
      "2851  [Roasted Chili Corn Salsa (Medium), [Black Bea...     $8.49   \n",
      "1699  [Fresh Tomato Salsa, [Fajita Vegetables, Rice,...    $11.25   \n",
      "1395  [Fresh Tomato Salsa (Mild), [Pinto Beans, Rice...     $8.49   \n",
      "\n",
      "[4622 rows x 5 columns]\n"
     ]
    }
   ],
   "source": [
    "print(chipo.sort_values(\"item_name\"))"
   ]
  },
  {
   "cell_type": "markdown",
   "metadata": {},
   "source": [
    "### Step 7. What was the quantity of the most expensive item ordered?"
   ]
  },
  {
   "cell_type": "code",
   "execution_count": 45,
   "metadata": {
    "collapsed": false
   },
   "outputs": [
    {
     "name": "stdout",
     "output_type": "stream",
     "text": [
      "The quantity of the most expensive item ordered is 15\n"
     ]
    }
   ],
   "source": [
    "most_expensive_item = chipo[\"item_price\"].str.replace(\"$\", \"\", regex = False).astype(float).idxmax()\n",
    "print(f\"The quantity of the most expensive item ordered is {chipo['quantity'].iloc[most_expensive_item]}\")"
   ]
  },
  {
   "cell_type": "markdown",
   "metadata": {},
   "source": [
    "### Step 8. How many times was a Veggie Salad Bowl ordered?"
   ]
  },
  {
   "cell_type": "code",
   "execution_count": 53,
   "metadata": {
    "collapsed": false
   },
   "outputs": [
    {
     "name": "stdout",
     "output_type": "stream",
     "text": [
      "18\n"
     ]
    }
   ],
   "source": [
    "print((chipo[\"item_name\"] == \"Veggie Salad Bowl\").sum())"
   ]
  },
  {
   "cell_type": "markdown",
   "metadata": {},
   "source": [
    "### Step 9. How many times did someone order more than one Canned Soda?"
   ]
  },
  {
   "cell_type": "code",
   "execution_count": 27,
   "metadata": {
    "collapsed": false
   },
   "outputs": [
    {
     "name": "stdout",
     "output_type": "stream",
     "text": [
      "20\n"
     ]
    }
   ],
   "source": [
    "canned_soda = chipo[(chipo[\"item_name\"] == \"Canned Soda\")]\n",
    "print(canned_soda[canned_soda[\"quantity\"] > 1].shape[0])"
   ]
  }
 ],
 "metadata": {
  "kernelspec": {
   "display_name": ".venv",
   "language": "python",
   "name": "python3"
  },
  "language_info": {
   "codemirror_mode": {
    "name": "ipython",
    "version": 3
   },
   "file_extension": ".py",
   "mimetype": "text/x-python",
   "name": "python",
   "nbconvert_exporter": "python",
   "pygments_lexer": "ipython3",
   "version": "3.11.2"
  }
 },
 "nbformat": 4,
 "nbformat_minor": 0
}
