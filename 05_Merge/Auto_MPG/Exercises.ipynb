{
 "cells": [
  {
   "cell_type": "markdown",
   "metadata": {},
   "source": [
    "# MPG Cars"
   ]
  },
  {
   "cell_type": "markdown",
   "metadata": {},
   "source": [
    "### Introduction:\n",
    "\n",
    "The following exercise utilizes data from [UC Irvine Machine Learning Repository](https://archive.ics.uci.edu/ml/datasets/Auto+MPG)\n",
    "\n",
    "### Step 1. Import the necessary libraries"
   ]
  },
  {
   "cell_type": "code",
   "execution_count": null,
   "metadata": {
    "collapsed": false
   },
   "outputs": [],
   "source": [
    "import pandas as pd\n",
    "import numpy as np"
   ]
  },
  {
   "cell_type": "markdown",
   "metadata": {},
   "source": [
    "### Step 2. Import the first dataset [cars1](https://raw.githubusercontent.com/guipsamora/pandas_exercises/master/05_Merge/Auto_MPG/cars1.csv) and [cars2](https://raw.githubusercontent.com/guipsamora/pandas_exercises/master/05_Merge/Auto_MPG/cars2.csv).  "
   ]
  },
  {
   "cell_type": "markdown",
   "metadata": {},
   "source": [
    "   ### Step 3. Assign each to a variable called cars1 and cars2"
   ]
  },
  {
   "cell_type": "code",
   "execution_count": null,
   "metadata": {
    "collapsed": false
   },
   "outputs": [],
   "source": [
    "cars1 = pd.read_csv(\"https://raw.githubusercontent.com/guipsamora/pandas_exercises/master/05_Merge/Auto_MPG/cars1.csv\", delimiter=\",\")\n",
    "cars2 = pd.read_csv(\"https://raw.githubusercontent.com/guipsamora/pandas_exercises/master/05_Merge/Auto_MPG/cars2.csv\", delimiter=\",\")"
   ]
  },
  {
   "cell_type": "markdown",
   "metadata": {},
   "source": [
    "### Step 4. Oops, it seems our first dataset has some unnamed blank columns, fix cars1"
   ]
  },
  {
   "cell_type": "code",
   "execution_count": 4,
   "metadata": {
    "collapsed": false
   },
   "outputs": [
    {
     "name": "stdout",
     "output_type": "stream",
     "text": [
      "      mpg  cylinders  displacement horsepower  weight  acceleration  model  \\\n",
      "0    18.0          8           307        130    3504          12.0     70   \n",
      "1    15.0          8           350        165    3693          11.5     70   \n",
      "2    18.0          8           318        150    3436          11.0     70   \n",
      "3    16.0          8           304        150    3433          12.0     70   \n",
      "4    17.0          8           302        140    3449          10.5     70   \n",
      "..    ...        ...           ...        ...     ...           ...    ...   \n",
      "193  24.0          6           200         81    3012          17.6     76   \n",
      "194  22.5          6           232         90    3085          17.6     76   \n",
      "195  29.0          4            85         52    2035          22.2     76   \n",
      "196  24.5          4            98         60    2164          22.1     76   \n",
      "197  29.0          4            90         70    1937          14.2     76   \n",
      "\n",
      "     origin                        car  Unnamed: 9  Unnamed: 10  Unnamed: 11  \\\n",
      "0         1  chevrolet chevelle malibu         NaN          NaN          NaN   \n",
      "1         1          buick skylark 320         NaN          NaN          NaN   \n",
      "2         1         plymouth satellite         NaN          NaN          NaN   \n",
      "3         1              amc rebel sst         NaN          NaN          NaN   \n",
      "4         1                ford torino         NaN          NaN          NaN   \n",
      "..      ...                        ...         ...          ...          ...   \n",
      "193       1              ford maverick         NaN          NaN          NaN   \n",
      "194       1                 amc hornet         NaN          NaN          NaN   \n",
      "195       1         chevrolet chevette         NaN          NaN          NaN   \n",
      "196       1            chevrolet woody         NaN          NaN          NaN   \n",
      "197       2                  vw rabbit         NaN          NaN          NaN   \n",
      "\n",
      "     Unnamed: 12  Unnamed: 13  \n",
      "0            NaN          NaN  \n",
      "1            NaN          NaN  \n",
      "2            NaN          NaN  \n",
      "3            NaN          NaN  \n",
      "4            NaN          NaN  \n",
      "..           ...          ...  \n",
      "193          NaN          NaN  \n",
      "194          NaN          NaN  \n",
      "195          NaN          NaN  \n",
      "196          NaN          NaN  \n",
      "197          NaN          NaN  \n",
      "\n",
      "[198 rows x 14 columns]\n",
      "      mpg  cylinders  displacement horsepower  weight  acceleration  model  \\\n",
      "0    18.0          8           307        130    3504          12.0     70   \n",
      "1    15.0          8           350        165    3693          11.5     70   \n",
      "2    18.0          8           318        150    3436          11.0     70   \n",
      "3    16.0          8           304        150    3433          12.0     70   \n",
      "4    17.0          8           302        140    3449          10.5     70   \n",
      "..    ...        ...           ...        ...     ...           ...    ...   \n",
      "193  24.0          6           200         81    3012          17.6     76   \n",
      "194  22.5          6           232         90    3085          17.6     76   \n",
      "195  29.0          4            85         52    2035          22.2     76   \n",
      "196  24.5          4            98         60    2164          22.1     76   \n",
      "197  29.0          4            90         70    1937          14.2     76   \n",
      "\n",
      "     origin                        car  \n",
      "0         1  chevrolet chevelle malibu  \n",
      "1         1          buick skylark 320  \n",
      "2         1         plymouth satellite  \n",
      "3         1              amc rebel sst  \n",
      "4         1                ford torino  \n",
      "..      ...                        ...  \n",
      "193       1              ford maverick  \n",
      "194       1                 amc hornet  \n",
      "195       1         chevrolet chevette  \n",
      "196       1            chevrolet woody  \n",
      "197       2                  vw rabbit  \n",
      "\n",
      "[198 rows x 9 columns]\n"
     ]
    }
   ],
   "source": [
    "print(cars1)\n",
    "cars1 = cars1.loc[:, ~cars1.columns.str.contains('^Unnamed')]\n",
    "cars1.dropna(axis=1, inplace=True, how=\"all\")\n",
    "print(cars1)\n"
   ]
  },
  {
   "cell_type": "markdown",
   "metadata": {},
   "source": [
    "### Step 5. What is the number of observations in each dataset?"
   ]
  },
  {
   "cell_type": "code",
   "execution_count": 7,
   "metadata": {
    "collapsed": false
   },
   "outputs": [
    {
     "name": "stdout",
     "output_type": "stream",
     "text": [
      "198\n",
      "200\n"
     ]
    }
   ],
   "source": [
    "print(cars1.shape[0])\n",
    "print(cars2.shape[0])"
   ]
  },
  {
   "cell_type": "markdown",
   "metadata": {},
   "source": [
    "### Step 6. Join cars1 and cars2 into a single DataFrame called cars"
   ]
  },
  {
   "cell_type": "code",
   "execution_count": 8,
   "metadata": {
    "collapsed": false
   },
   "outputs": [],
   "source": [
    "cars = pd.concat([cars1, cars2], ignore_index=True)"
   ]
  },
  {
   "cell_type": "markdown",
   "metadata": {},
   "source": [
    "### Step 7. Oops, there is a column missing, called owners. Create a random number Series from 15,000 to 73,000."
   ]
  },
  {
   "cell_type": "code",
   "execution_count": 22,
   "metadata": {
    "collapsed": false
   },
   "outputs": [
    {
     "name": "stdout",
     "output_type": "stream",
     "text": [
      "[57639 18210 59948 40525 35824 20560 15154 61469 37336 21990 52179 23599\n",
      " 32779 18839 45379 35329 53090 39955 48418 17757 65847 28297 27157 15193\n",
      " 53334 18029 32658 62867 42132 25631 18990 33041 57168 15525 19697 50559\n",
      " 22172 23244 21075 47572 56180 51032 51589 34571 28982 71007 27479 16076\n",
      " 64597 40749 63851 38313 52850 49068 58255 37621 63426 29808 19607 40553\n",
      " 59140 43971 52732 72386 25233 72984 36881 35561 27340 28410 31051 45116\n",
      " 54594 35130 28136 62703 69899 43668 57696 44356 18333 45547 43303 70414\n",
      " 19304 19842 21603 28660 62063 64663 54179 38455 57792 48940 48795 61473\n",
      " 70283 60314 72327 39344 58553 25133 68001 39936 37407 62215 33697 20642\n",
      " 60355 72466 69915 59922 28247 36738 72550 39341 48071 50711 31063 25154\n",
      " 22326 27983 30116 38478 65492 71602 48500 55657 37972 53691 64856 50701\n",
      " 69643 61369 66975 61872 72250 50819 17557 25998 71316 48611 27037 47494\n",
      " 42877 25663 28650 49175 42613 33292 57138 52613 59949 67259 50022 44713\n",
      " 39413 31130 69214 35813 16918 29974 50984 66482 36155 39832 28405 27073\n",
      " 18592 61805 47587 33030 18558 62752 69692 39444 59974 56488 67459 56577\n",
      " 56829 62523 62831 40217 57920 67750 17594 27037 52153 23419 49632 61952\n",
      " 36268 19487 70469 15915 24769 45347 39670 49729 47041 72746 55314 35065\n",
      " 36598 22094 64895 44665 49846 29184 35183 59310 19588 71591 34193 28565\n",
      " 46897 32457 51543 63636 34855 33358 71118 23805 32128 59340 69666 43725\n",
      " 37846 59105 36057 37312 62530 37115 49625 66653 51570 21085 23847 33475\n",
      " 71990 31394 38580 64436 61018 39459 54568 24630 22797 23474 72312 49243\n",
      " 56706 24729 50915 57052 60027 71529 46027 72345 58313 61815 24847 23958\n",
      " 35094 19713 70456 36127 30821 61222 67954 34564 18972 51448 18822 36558\n",
      " 15232 18302 58050 32007 56696 46583 28801 72991 22864 35832 20870 51757\n",
      " 21964 15322 22260 40617 23117 57055 20154 45855 29605 36455 27421 43926\n",
      " 47973 57136 49180 44220 71244 38674 18581 28626 22802 48115 30761 63776\n",
      " 24880 46879 37741 21696 22693 69304 19501 70311 48754 35223 30909 60524\n",
      " 62934 64900 60240 28700 38046 45003 32234 52840 43670 28305 32319 48138\n",
      " 68037 51013 30686 61572 37522 45330 67840 64120 48633 43237 67105 69061\n",
      " 18882 49703 49687 22575 60467 61139 43871 24401 23093 43311 45733 63495\n",
      " 15644 59193 59015 40171 62581 65504 54632 61012 19212 26240 56754 72283\n",
      " 62559 41179 45247 17357 47471 29182 61286 16546 25621 46418 34434 39585\n",
      " 20022 47948 51357 32829 47447 35441 60259 64161 15352 49491 49970 48616\n",
      " 62618 51513]\n"
     ]
    }
   ],
   "source": [
    "random_number_series = np.random.randint(15000, 73000, cars.shape[0])\n",
    "print(random_number_series)"
   ]
  },
  {
   "cell_type": "markdown",
   "metadata": {},
   "source": [
    "### Step 8. Add the column owners to cars"
   ]
  },
  {
   "cell_type": "code",
   "execution_count": null,
   "metadata": {
    "collapsed": false
   },
   "outputs": [
    {
     "name": "stdout",
     "output_type": "stream",
     "text": [
      "      mpg  cylinders  displacement horsepower  weight  acceleration  model  \\\n",
      "0    18.0          8           307        130    3504          12.0     70   \n",
      "1    15.0          8           350        165    3693          11.5     70   \n",
      "2    18.0          8           318        150    3436          11.0     70   \n",
      "3    16.0          8           304        150    3433          12.0     70   \n",
      "4    17.0          8           302        140    3449          10.5     70   \n",
      "..    ...        ...           ...        ...     ...           ...    ...   \n",
      "393  27.0          4           140         86    2790          15.6     82   \n",
      "394  44.0          4            97         52    2130          24.6     82   \n",
      "395  32.0          4           135         84    2295          11.6     82   \n",
      "396  28.0          4           120         79    2625          18.6     82   \n",
      "397  31.0          4           119         82    2720          19.4     82   \n",
      "\n",
      "     origin                        car  owners  \n",
      "0         1  chevrolet chevelle malibu   57639  \n",
      "1         1          buick skylark 320   18210  \n",
      "2         1         plymouth satellite   59948  \n",
      "3         1              amc rebel sst   40525  \n",
      "4         1                ford torino   35824  \n",
      "..      ...                        ...     ...  \n",
      "393       1            ford mustang gl   49491  \n",
      "394       2                  vw pickup   49970  \n",
      "395       1              dodge rampage   48616  \n",
      "396       1                ford ranger   62618  \n",
      "397       1                 chevy s-10   51513  \n",
      "\n",
      "[398 rows x 10 columns]\n"
     ]
    }
   ],
   "source": [
    "cars[\"owners\"] = random_number_series\n",
    "print(cars)"
   ]
  }
 ],
 "metadata": {
  "anaconda-cloud": {},
  "kernelspec": {
   "display_name": ".venv",
   "language": "python",
   "name": "python3"
  },
  "language_info": {
   "codemirror_mode": {
    "name": "ipython",
    "version": 3
   },
   "file_extension": ".py",
   "mimetype": "text/x-python",
   "name": "python",
   "nbconvert_exporter": "python",
   "pygments_lexer": "ipython3",
   "version": "3.11.2"
  }
 },
 "nbformat": 4,
 "nbformat_minor": 0
}
