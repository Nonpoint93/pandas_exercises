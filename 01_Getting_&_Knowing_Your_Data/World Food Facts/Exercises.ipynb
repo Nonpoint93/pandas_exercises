{
 "cells": [
  {
   "cell_type": "markdown",
   "metadata": {},
   "source": [
    "# Exercise 1"
   ]
  },
  {
   "cell_type": "markdown",
   "metadata": {},
   "source": [
    "### Step 1. Go to https://www.kaggle.com/openfoodfacts/world-food-facts/data"
   ]
  },
  {
   "cell_type": "markdown",
   "metadata": {},
   "source": [
    "### Step 2. Download the dataset to your computer and unzip it."
   ]
  },
  {
   "cell_type": "markdown",
   "metadata": {},
   "source": [
    "### Step 3. Use the tsv file and assign it to a dataframe called food"
   ]
  },
  {
   "cell_type": "code",
   "execution_count": 2,
   "metadata": {
    "collapsed": true
   },
   "outputs": [],
   "source": [
    "import pandas as pd\n",
    "\n",
    "dataset = pd.read_csv(\"/home/nonpoint93/Git/4GeeksAcademy/Repositories/4GeeksAcademy/en.openfoodfacts.org.products.tsv\", sep = '\\t', header = 0, low_memory=False)"
   ]
  },
  {
   "cell_type": "markdown",
   "metadata": {},
   "source": [
    "### Step 4. See the first 5 entries"
   ]
  },
  {
   "cell_type": "code",
   "execution_count": 4,
   "metadata": {
    "collapsed": true
   },
   "outputs": [
    {
     "name": "stdout",
     "output_type": "stream",
     "text": [
      "            code                                                url  \\\n",
      "0  0000000003087  http://world-en.openfoodfacts.org/product/0000...   \n",
      "1  0000000004530  http://world-en.openfoodfacts.org/product/0000...   \n",
      "2  0000000004559  http://world-en.openfoodfacts.org/product/0000...   \n",
      "3  0000000016087  http://world-en.openfoodfacts.org/product/0000...   \n",
      "4  0000000016094  http://world-en.openfoodfacts.org/product/0000...   \n",
      "\n",
      "                      creator   created_t      created_datetime  \\\n",
      "0  openfoodfacts-contributors  1474103866  2016-09-17T09:17:46Z   \n",
      "1             usda-ndb-import  1489069957  2017-03-09T14:32:37Z   \n",
      "2             usda-ndb-import  1489069957  2017-03-09T14:32:37Z   \n",
      "3             usda-ndb-import  1489055731  2017-03-09T10:35:31Z   \n",
      "4             usda-ndb-import  1489055653  2017-03-09T10:34:13Z   \n",
      "\n",
      "  last_modified_t last_modified_datetime                    product_name  \\\n",
      "0      1474103893   2016-09-17T09:18:13Z              Farine de blé noir   \n",
      "1      1489069957   2017-03-09T14:32:37Z  Banana Chips Sweetened (Whole)   \n",
      "2      1489069957   2017-03-09T14:32:37Z                         Peanuts   \n",
      "3      1489055731   2017-03-09T10:35:31Z          Organic Salted Nut Mix   \n",
      "4      1489055653   2017-03-09T10:34:13Z                 Organic Polenta   \n",
      "\n",
      "  generic_name quantity  ... fruits-vegetables-nuts_100g  \\\n",
      "0          NaN      1kg  ...                         NaN   \n",
      "1          NaN      NaN  ...                         NaN   \n",
      "2          NaN      NaN  ...                         NaN   \n",
      "3          NaN      NaN  ...                         NaN   \n",
      "4          NaN      NaN  ...                         NaN   \n",
      "\n",
      "  fruits-vegetables-nuts-estimate_100g collagen-meat-protein-ratio_100g  \\\n",
      "0                                  NaN                              NaN   \n",
      "1                                  NaN                              NaN   \n",
      "2                                  NaN                              NaN   \n",
      "3                                  NaN                              NaN   \n",
      "4                                  NaN                              NaN   \n",
      "\n",
      "  cocoa_100g chlorophyl_100g carbon-footprint_100g nutrition-score-fr_100g  \\\n",
      "0        NaN             NaN                   NaN                     NaN   \n",
      "1        NaN             NaN                   NaN                    14.0   \n",
      "2        NaN             NaN                   NaN                     0.0   \n",
      "3        NaN             NaN                   NaN                    12.0   \n",
      "4        NaN             NaN                   NaN                     NaN   \n",
      "\n",
      "  nutrition-score-uk_100g glycemic-index_100g water-hardness_100g  \n",
      "0                     NaN                 NaN                 NaN  \n",
      "1                    14.0                 NaN                 NaN  \n",
      "2                     0.0                 NaN                 NaN  \n",
      "3                    12.0                 NaN                 NaN  \n",
      "4                     NaN                 NaN                 NaN  \n",
      "\n",
      "[5 rows x 163 columns]\n"
     ]
    }
   ],
   "source": [
    "print(dataset.head(5))"
   ]
  },
  {
   "cell_type": "markdown",
   "metadata": {},
   "source": [
    "### Step 5. What is the number of observations in the dataset?"
   ]
  },
  {
   "cell_type": "markdown",
   "metadata": {},
   "source": []
  },
  {
   "cell_type": "code",
   "execution_count": null,
   "metadata": {
    "collapsed": true
   },
   "outputs": [
    {
     "name": "stdout",
     "output_type": "stream",
     "text": [
      "356027\n",
      "356027\n"
     ]
    }
   ],
   "source": [
    "print(dataset.shape[0]) # Solution 1\n",
    "print(len(dataset)) # Solution 2"
   ]
  },
  {
   "cell_type": "markdown",
   "metadata": {},
   "source": [
    "### Step 6. What is the number of columns in the dataset?"
   ]
  },
  {
   "cell_type": "code",
   "execution_count": 9,
   "metadata": {
    "collapsed": true
   },
   "outputs": [
    {
     "name": "stdout",
     "output_type": "stream",
     "text": [
      "<class 'pandas.core.frame.DataFrame'>\n",
      "RangeIndex: 356027 entries, 0 to 356026\n",
      "Columns: 163 entries, code to water-hardness_100g\n",
      "dtypes: float64(107), object(56)\n",
      "memory usage: 442.8+ MB\n",
      "None\n",
      "163\n",
      "163\n"
     ]
    }
   ],
   "source": [
    "print(dataset.info())\n",
    "print(len(dataset.columns))\n",
    "print(dataset.shape[1])"
   ]
  },
  {
   "cell_type": "markdown",
   "metadata": {},
   "source": [
    "### Step 7. Print the name of all the columns."
   ]
  },
  {
   "cell_type": "code",
   "execution_count": 3,
   "metadata": {
    "collapsed": true
   },
   "outputs": [
    {
     "name": "stdout",
     "output_type": "stream",
     "text": [
      "Index(['code', 'url', 'creator', 'created_t', 'created_datetime',\n",
      "       'last_modified_t', 'last_modified_datetime', 'product_name',\n",
      "       'generic_name', 'quantity',\n",
      "       ...\n",
      "       'fruits-vegetables-nuts_100g', 'fruits-vegetables-nuts-estimate_100g',\n",
      "       'collagen-meat-protein-ratio_100g', 'cocoa_100g', 'chlorophyl_100g',\n",
      "       'carbon-footprint_100g', 'nutrition-score-fr_100g',\n",
      "       'nutrition-score-uk_100g', 'glycemic-index_100g',\n",
      "       'water-hardness_100g'],\n",
      "      dtype='object', length=163)\n"
     ]
    }
   ],
   "source": [
    "print(dataset.columns)"
   ]
  },
  {
   "cell_type": "markdown",
   "metadata": {},
   "source": [
    "### Step 8. What is the name of 105th column?"
   ]
  },
  {
   "cell_type": "code",
   "execution_count": null,
   "metadata": {
    "collapsed": true
   },
   "outputs": [
    {
     "name": "stdout",
     "output_type": "stream",
     "text": [
      "-fructose_100g\n"
     ]
    }
   ],
   "source": [
    "print(dataset.columns[104])"
   ]
  },
  {
   "cell_type": "markdown",
   "metadata": {},
   "source": [
    "### Step 9. What is the type of the observations of the 105th column?"
   ]
  },
  {
   "cell_type": "code",
   "execution_count": null,
   "metadata": {
    "collapsed": true
   },
   "outputs": [
    {
     "name": "stdout",
     "output_type": "stream",
     "text": [
      "float64\n"
     ]
    },
    {
     "name": "stderr",
     "output_type": "stream",
     "text": [
      "/tmp/ipykernel_3697/2385631102.py:1: FutureWarning: Series.__getitem__ treating keys as positions is deprecated. In a future version, integer keys will always be treated as labels (consistent with DataFrame behavior). To access a value by position, use `ser.iloc[pos]`\n",
      "  print(dataset.dtypes[104])\n"
     ]
    }
   ],
   "source": [
    "print(dataset.dtypes[dataset.columns[104]])"
   ]
  },
  {
   "cell_type": "markdown",
   "metadata": {},
   "source": [
    "### Step 10. How is the dataset indexed?"
   ]
  },
  {
   "cell_type": "code",
   "execution_count": 9,
   "metadata": {
    "collapsed": true
   },
   "outputs": [
    {
     "name": "stdout",
     "output_type": "stream",
     "text": [
      "                 code                                                url  \\\n",
      "0       0000000003087  http://world-en.openfoodfacts.org/product/0000...   \n",
      "1       0000000004530  http://world-en.openfoodfacts.org/product/0000...   \n",
      "2       0000000004559  http://world-en.openfoodfacts.org/product/0000...   \n",
      "3       0000000016087  http://world-en.openfoodfacts.org/product/0000...   \n",
      "4       0000000016094  http://world-en.openfoodfacts.org/product/0000...   \n",
      "...               ...                                                ...   \n",
      "356022       99567453  http://world-en.openfoodfacts.org/product/9956...   \n",
      "356023  9970229501521  http://world-en.openfoodfacts.org/product/9970...   \n",
      "356024  9977471758307  http://world-en.openfoodfacts.org/product/9977...   \n",
      "356025  9980282863788  http://world-en.openfoodfacts.org/product/9980...   \n",
      "356026   999990026839  http://world-en.openfoodfacts.org/product/9999...   \n",
      "\n",
      "                           creator   created_t      created_datetime  \\\n",
      "0       openfoodfacts-contributors  1474103866  2016-09-17T09:17:46Z   \n",
      "1                  usda-ndb-import  1489069957  2017-03-09T14:32:37Z   \n",
      "2                  usda-ndb-import  1489069957  2017-03-09T14:32:37Z   \n",
      "3                  usda-ndb-import  1489055731  2017-03-09T10:35:31Z   \n",
      "4                  usda-ndb-import  1489055653  2017-03-09T10:34:13Z   \n",
      "...                            ...         ...                   ...   \n",
      "356022             usda-ndb-import  1489059076  2017-03-09T11:31:16Z   \n",
      "356023                      tomato  1422099377  2015-01-24T11:36:17Z   \n",
      "356024  openfoodfacts-contributors  1497018549  2017-06-09T14:29:09Z   \n",
      "356025  openfoodfacts-contributors  1492340089  2017-04-16T10:54:49Z   \n",
      "356026             usda-ndb-import  1489072709  2017-03-09T15:18:29Z   \n",
      "\n",
      "       last_modified_t last_modified_datetime  \\\n",
      "0           1474103893   2016-09-17T09:18:13Z   \n",
      "1           1489069957   2017-03-09T14:32:37Z   \n",
      "2           1489069957   2017-03-09T14:32:37Z   \n",
      "3           1489055731   2017-03-09T10:35:31Z   \n",
      "4           1489055653   2017-03-09T10:34:13Z   \n",
      "...                ...                    ...   \n",
      "356022      1491244499   2017-04-03T18:34:59Z   \n",
      "356023      1491244499   2017-04-03T18:34:59Z   \n",
      "356024      1500730305   2017-07-22T13:31:45Z   \n",
      "356025      1492340089   2017-04-16T10:54:49Z   \n",
      "356026      1491244499   2017-04-03T18:34:59Z   \n",
      "\n",
      "                                             product_name  \\\n",
      "0                                      Farine de blé noir   \n",
      "1                          Banana Chips Sweetened (Whole)   \n",
      "2                                                 Peanuts   \n",
      "3                                  Organic Salted Nut Mix   \n",
      "4                                         Organic Polenta   \n",
      "...                                                   ...   \n",
      "356022  Mint Melange Tea A Blend Of Peppermint, Lemon ...   \n",
      "356023                                            乐吧泡菜味薯片   \n",
      "356024                                      Biscottes bio   \n",
      "356025                           Tomates aux Vermicelles    \n",
      "356026                    Sugar Free Drink Mix, Peach Tea   \n",
      "\n",
      "                           generic_name quantity  ...  \\\n",
      "0                                   NaN      1kg  ...   \n",
      "1                                   NaN      NaN  ...   \n",
      "2                                   NaN      NaN  ...   \n",
      "3                                   NaN      NaN  ...   \n",
      "4                                   NaN      NaN  ...   \n",
      "...                                 ...      ...  ...   \n",
      "356022                              NaN      NaN  ...   \n",
      "356023  Leba pickle flavor potato chips     50 g  ...   \n",
      "356024                              NaN     300g  ...   \n",
      "356025                              NaN      67g  ...   \n",
      "356026                              NaN      NaN  ...   \n",
      "\n",
      "       fruits-vegetables-nuts_100g fruits-vegetables-nuts-estimate_100g  \\\n",
      "0                              NaN                                  NaN   \n",
      "1                              NaN                                  NaN   \n",
      "2                              NaN                                  NaN   \n",
      "3                              NaN                                  NaN   \n",
      "4                              NaN                                  NaN   \n",
      "...                            ...                                  ...   \n",
      "356022                         NaN                                  NaN   \n",
      "356023                         NaN                                  NaN   \n",
      "356024                         NaN                                  NaN   \n",
      "356025                         NaN                                  NaN   \n",
      "356026                         NaN                                  NaN   \n",
      "\n",
      "       collagen-meat-protein-ratio_100g cocoa_100g chlorophyl_100g  \\\n",
      "0                                   NaN        NaN             NaN   \n",
      "1                                   NaN        NaN             NaN   \n",
      "2                                   NaN        NaN             NaN   \n",
      "3                                   NaN        NaN             NaN   \n",
      "4                                   NaN        NaN             NaN   \n",
      "...                                 ...        ...             ...   \n",
      "356022                              NaN        NaN             NaN   \n",
      "356023                              NaN        NaN             NaN   \n",
      "356024                              NaN        NaN             NaN   \n",
      "356025                              NaN        NaN             NaN   \n",
      "356026                              NaN        NaN             NaN   \n",
      "\n",
      "       carbon-footprint_100g nutrition-score-fr_100g nutrition-score-uk_100g  \\\n",
      "0                        NaN                     NaN                     NaN   \n",
      "1                        NaN                    14.0                    14.0   \n",
      "2                        NaN                     0.0                     0.0   \n",
      "3                        NaN                    12.0                    12.0   \n",
      "4                        NaN                     NaN                     NaN   \n",
      "...                      ...                     ...                     ...   \n",
      "356022                   NaN                     0.0                     0.0   \n",
      "356023                   NaN                     NaN                     NaN   \n",
      "356024                   NaN                     NaN                     NaN   \n",
      "356025                   NaN                     NaN                     NaN   \n",
      "356026                   NaN                     NaN                     NaN   \n",
      "\n",
      "       glycemic-index_100g water-hardness_100g  \n",
      "0                      NaN                 NaN  \n",
      "1                      NaN                 NaN  \n",
      "2                      NaN                 NaN  \n",
      "3                      NaN                 NaN  \n",
      "4                      NaN                 NaN  \n",
      "...                    ...                 ...  \n",
      "356022                 NaN                 NaN  \n",
      "356023                 NaN                 NaN  \n",
      "356024                 NaN                 NaN  \n",
      "356025                 NaN                 NaN  \n",
      "356026                 NaN                 NaN  \n",
      "\n",
      "[356027 rows x 163 columns]\n"
     ]
    },
    {
     "data": {
      "text/plain": [
       "'\\nThe dataset is indexed using a default numerical index\\n'"
      ]
     },
     "execution_count": 9,
     "metadata": {},
     "output_type": "execute_result"
    }
   ],
   "source": [
    "print(dataset)\n",
    "\"\"\"\n",
    "The dataset is indexed using a default numerical index\n",
    "\"\"\""
   ]
  },
  {
   "cell_type": "markdown",
   "metadata": {},
   "source": [
    "### Step 11. What is the product name of the 19th observation?"
   ]
  },
  {
   "cell_type": "code",
   "execution_count": 12,
   "metadata": {
    "collapsed": true
   },
   "outputs": [
    {
     "name": "stdout",
     "output_type": "stream",
     "text": [
      "Lotus Organic Brown Jasmine Rice\n"
     ]
    }
   ],
   "source": [
    "print(dataset[\"product_name\"][18])"
   ]
  }
 ],
 "metadata": {
  "anaconda-cloud": {},
  "kernelspec": {
   "display_name": ".venv",
   "language": "python",
   "name": "python3"
  },
  "language_info": {
   "codemirror_mode": {
    "name": "ipython",
    "version": 3
   },
   "file_extension": ".py",
   "mimetype": "text/x-python",
   "name": "python",
   "nbconvert_exporter": "python",
   "pygments_lexer": "ipython3",
   "version": "3.11.2"
  }
 },
 "nbformat": 4,
 "nbformat_minor": 0
}
