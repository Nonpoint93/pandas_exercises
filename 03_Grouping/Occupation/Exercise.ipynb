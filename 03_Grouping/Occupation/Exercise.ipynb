{
 "cells": [
  {
   "cell_type": "markdown",
   "metadata": {},
   "source": [
    "# Occupation"
   ]
  },
  {
   "cell_type": "markdown",
   "metadata": {},
   "source": [
    "### Introduction:\n",
    "\n",
    "Special thanks to: https://github.com/justmarkham for sharing the dataset and materials.\n",
    "\n",
    "### Step 1. Import the necessary libraries"
   ]
  },
  {
   "cell_type": "code",
   "execution_count": 3,
   "metadata": {
    "collapsed": false
   },
   "outputs": [],
   "source": [
    "import pandas as pd"
   ]
  },
  {
   "cell_type": "markdown",
   "metadata": {},
   "source": [
    "### Step 2. Import the dataset from this [address](https://raw.githubusercontent.com/justmarkham/DAT8/master/data/u.user). "
   ]
  },
  {
   "cell_type": "markdown",
   "metadata": {},
   "source": [
    "### Step 3. Assign it to a variable called users."
   ]
  },
  {
   "cell_type": "code",
   "execution_count": 4,
   "metadata": {
    "collapsed": false
   },
   "outputs": [],
   "source": [
    "users = pd.read_csv(\"https://raw.githubusercontent.com/justmarkham/DAT8/master/data/u.user\", delimiter=\"|\")"
   ]
  },
  {
   "cell_type": "markdown",
   "metadata": {},
   "source": [
    "### Step 4. Discover what is the mean age per occupation"
   ]
  },
  {
   "cell_type": "code",
   "execution_count": 8,
   "metadata": {
    "collapsed": false
   },
   "outputs": [
    {
     "name": "stdout",
     "output_type": "stream",
     "text": [
      "       occupation    age\n",
      "0   administrator  38.75\n",
      "1          artist  31.39\n",
      "2          doctor  43.57\n",
      "3        educator  42.01\n",
      "4        engineer  36.39\n",
      "5   entertainment  29.22\n",
      "6       executive  38.72\n",
      "7      healthcare  41.56\n",
      "8       homemaker  32.57\n",
      "9          lawyer  36.75\n",
      "10      librarian  40.00\n",
      "11      marketing  37.62\n",
      "12           none  26.56\n",
      "13          other  34.52\n",
      "14     programmer  33.12\n",
      "15        retired  63.07\n",
      "16       salesman  35.67\n",
      "17      scientist  35.55\n",
      "18        student  22.08\n",
      "19     technician  33.15\n",
      "20         writer  36.31\n"
     ]
    }
   ],
   "source": [
    "print(users.groupby(\"occupation\")[\"age\"].mean().round(2).reset_index())"
   ]
  },
  {
   "cell_type": "markdown",
   "metadata": {},
   "source": [
    "### Step 5. Discover the Male ratio per occupation and sort it from the most to the least"
   ]
  },
  {
   "cell_type": "code",
   "execution_count": 39,
   "metadata": {
    "collapsed": false
   },
   "outputs": [
    {
     "name": "stdout",
     "output_type": "stream",
     "text": [
      "occupation\n",
      "doctor           1.00\n",
      "engineer         0.97\n",
      "technician       0.96\n",
      "retired          0.93\n",
      "executive        0.91\n",
      "programmer       0.91\n",
      "scientist        0.90\n",
      "entertainment    0.89\n",
      "lawyer           0.83\n",
      "salesman         0.75\n",
      "educator         0.73\n",
      "student          0.69\n",
      "other            0.66\n",
      "marketing        0.62\n",
      "writer           0.58\n",
      "none             0.56\n",
      "administrator    0.54\n",
      "artist           0.54\n",
      "librarian        0.43\n",
      "healthcare       0.31\n",
      "homemaker        0.14\n",
      "dtype: float64\n"
     ]
    }
   ],
   "source": [
    "male_occupation = users[users[\"gender\"] == \"M\"].groupby(\"occupation\").size()\n",
    "total_occupation = users.groupby(\"occupation\").size()\n",
    "print((male_occupation / total_occupation).round(2).sort_values(ascending=False))\n"
   ]
  },
  {
   "cell_type": "markdown",
   "metadata": {},
   "source": [
    "### Step 6. For each occupation, calculate the minimum and maximum ages"
   ]
  },
  {
   "cell_type": "code",
   "execution_count": 10,
   "metadata": {
    "collapsed": false
   },
   "outputs": [
    {
     "name": "stdout",
     "output_type": "stream",
     "text": [
      "              user_id      age     gender     zip_code       \n",
      "                  max  min max min    max min      max    min\n",
      "occupation                                                   \n",
      "administrator     940    7  70  21      M   F    V1G4L  02154\n",
      "artist            920   23  48  19      M   F    V5A2B  01945\n",
      "doctor            935  138  64  28      M   M    97405  47401\n",
      "educator          937   13  63  23      M   F    M4J2K  01602\n",
      "engineer          934   25  70  22      M   F    T8H1N  00000\n",
      "entertainment     926   16  50  15      M   F    V3N4P  01040\n",
      "executive         901    6  69  22      M   F    L1V3W  00000\n",
      "healthcare        910   60  62  22      M   F    97232  02154\n",
      "homemaker         898   20  50  20      M   F    96349  17331\n",
      "lawyer            846   10  53  21      M   F    90703  06371\n",
      "librarian         942   19  69  23      M   F    99603  01080\n",
      "marketing         881   46  55  24      M   F    97215  01913\n",
      "none              756   57  55  11      M   F    94619  21206\n",
      "other             936    2  64  13      M   F    V0R2M  02110\n",
      "programmer        927   17  63  20      M   F    98121  01331\n",
      "retired           900  106  73  51      M   F    98257  02903\n",
      "salesman          925  112  66  18      M   F    97408  30011\n",
      "scientist         930   14  55  23      M   F    T8H1N  02113\n",
      "student           943    9  42   7      M   F    R3T5K  01002\n",
      "technician        938    1  55  21      M   F    Y1A6B  02139\n",
      "writer            911    3  60  18      M   F    E2A4H  08534\n"
     ]
    }
   ],
   "source": [
    "print(users.groupby(\"occupation\").agg([\"max\", \"min\"]))"
   ]
  },
  {
   "cell_type": "markdown",
   "metadata": {},
   "source": [
    "### Step 7. For each combination of occupation and gender, calculate the mean age"
   ]
  },
  {
   "cell_type": "code",
   "execution_count": 15,
   "metadata": {
    "collapsed": false
   },
   "outputs": [
    {
     "name": "stdout",
     "output_type": "stream",
     "text": [
      "occupation     gender\n",
      "retired        F         70.00\n",
      "               M         62.54\n",
      "healthcare     M         45.40\n",
      "executive      F         44.00\n",
      "doctor         M         43.57\n",
      "educator       M         43.10\n",
      "administrator  F         40.64\n",
      "librarian      M         40.00\n",
      "               F         40.00\n",
      "healthcare     F         39.82\n",
      "lawyer         F         39.50\n",
      "educator       F         39.12\n",
      "salesman       M         38.56\n",
      "executive      M         38.17\n",
      "technician     F         38.00\n",
      "marketing      M         37.88\n",
      "writer         F         37.63\n",
      "marketing      F         37.20\n",
      "administrator  M         37.16\n",
      "engineer       M         36.60\n",
      "none           F         36.50\n",
      "scientist      M         36.32\n",
      "lawyer         M         36.20\n",
      "other          F         35.47\n",
      "writer         M         35.35\n",
      "homemaker      F         34.17\n",
      "other          M         34.03\n",
      "programmer     M         33.22\n",
      "technician     M         32.96\n",
      "artist         M         32.33\n",
      "programmer     F         32.17\n",
      "entertainment  F         31.00\n",
      "artist         F         30.31\n",
      "engineer       F         29.50\n",
      "entertainment  M         29.00\n",
      "scientist      F         28.33\n",
      "salesman       F         27.00\n",
      "homemaker      M         23.00\n",
      "student        M         22.67\n",
      "               F         20.75\n",
      "none           M         18.60\n",
      "Name: age, dtype: float64\n"
     ]
    }
   ],
   "source": [
    "print(users.groupby([\"occupation\", \"gender\"])[\"age\"].mean().round(2).sort_values(ascending=False))"
   ]
  },
  {
   "cell_type": "markdown",
   "metadata": {},
   "source": [
    "### Step 8.  For each occupation present the percentage of women and men"
   ]
  },
  {
   "cell_type": "code",
   "execution_count": 29,
   "metadata": {
    "collapsed": false
   },
   "outputs": [
    {
     "name": "stdout",
     "output_type": "stream",
     "text": [
      "gender             F       M\n",
      "occupation                  \n",
      "administrator  45.57   54.43\n",
      "artist         46.43   53.57\n",
      "doctor           NaN  100.00\n",
      "educator       27.37   72.63\n",
      "engineer        2.99   97.01\n",
      "entertainment  11.11   88.89\n",
      "executive       9.38   90.62\n",
      "healthcare     68.75   31.25\n",
      "homemaker      85.71   14.29\n",
      "lawyer         16.67   83.33\n",
      "librarian      56.86   43.14\n",
      "marketing      38.46   61.54\n",
      "none           44.44   55.56\n",
      "other          34.29   65.71\n",
      "programmer      9.09   90.91\n",
      "retired         7.14   92.86\n",
      "salesman       25.00   75.00\n",
      "scientist       9.68   90.32\n",
      "student        30.61   69.39\n",
      "technician      3.70   96.30\n",
      "writer         42.22   57.78\n"
     ]
    }
   ],
   "source": [
    "gender_counts = users.groupby(\"occupation\")[\"gender\"].value_counts(normalize=True).unstack() * 100\n",
    "print(gender_counts.round(2))"
   ]
  }
 ],
 "metadata": {
  "kernelspec": {
   "display_name": ".venv",
   "language": "python",
   "name": "python3"
  },
  "language_info": {
   "codemirror_mode": {
    "name": "ipython",
    "version": 3
   },
   "file_extension": ".py",
   "mimetype": "text/x-python",
   "name": "python",
   "nbconvert_exporter": "python",
   "pygments_lexer": "ipython3",
   "version": "3.11.2"
  }
 },
 "nbformat": 4,
 "nbformat_minor": 0
}
